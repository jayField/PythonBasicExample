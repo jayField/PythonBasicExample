{
 "cells": [
  {
   "cell_type": "markdown",
   "metadata": {},
   "source": [
    "<h1>파이썬 소개</h1>\n",
    "\n",
    "파이썬은 귀도 반 로섬이 개발한 '인터프리터'언어이다.<br/>\n",
    "<span style=\"color:red\">인터프리터 언어</span>란 프로그래밍 언어의 소스코드를 바로 실행하는 언어를 뜻합니다.<br/>\n",
    "파이썬은 다른 언어(C,java)에 비해 간결하고 직관적이다. ex) print(\"Hello\")\n"
   ]
  },
  {
   "cell_type": "markdown",
   "metadata": {},
   "source": [
    "<h1>변수란</h1>\n",
    "\n",
    "파이썬은 자료형 구분 없이 변수에 모든 자료형을 할당할 수 있습니다. (ex) a = 1, b = [1,2,3,4]<br/>\n",
    "파이썬 변수를 선언할 때, 변수명을 신경 쓰셔야 합니다. 기존에 존재하는 함수명이나 특수기호를 활용해 변수를 선언할 수 없습니다.(_제외)<br/>\n",
    "변수명을 정할때, 변수 활용에 맞게 이름을 정하시면 좋습니다. ex) 사용자 입력을 숫자형으로 받는 경우, inputNum = int(input(\"정수를 입력하세요: \"))\n"
   ]
  },
  {
   "cell_type": "markdown",
   "metadata": {},
   "source": [
    "<h1>시스템 종료</h1>\n",
    "\n",
    "import sys <br/>\n",
    "sys.exit()<br/>\n",
    "<br/>\n",
    "위의 소스를 실행하면, 실행중 프로그램을 <span style=\"color:red\">강제로 종료</span>합니다. 디버깅할 때(프로그램에서 error를 찾는 과정) 아주 유용하게 사용할 수 있습니다."
   ]
  },
  {
   "cell_type": "markdown",
   "metadata": {},
   "source": [
    "<h1>주석문</h1>\n",
    "\n",
    "주석문이란 코드를 읽는 사람으로 하여금 <span style=\"color:red\">이해를 쉽게 도와주는 문장</span>입니다. 프로그램 실행시 영향을 끼치 않습니다<br/>\n",
    "단문 주석 : # 주석입니다<br/>\n",
    "장문 주석 : <br/>\n",
    "\"\"\"<br/>\n",
    "이 프로그램은 Hello World를<br/>\n",
    "출력하는 프로그램입니다.<br/>\n",
    " \"\"\"\n",
    "          \n"
   ]
  },
  {
   "cell_type": "markdown",
   "metadata": {},
   "source": [
    "<h1>자료형(숫자형)</h1>\n",
    "\n",
    "<h2>숫자형의 정의</h2>\n",
    "\n",
    "숫자형(Number)이란 <span style=\"color:red\">숫자 형태로 이루어진 자료형</span>입니다. ex) 123, 12.3 <br/>\n",
    "숫자형을 만드는 법 : a = 123, b = 12.3<br/>\n",
    "\n",
    "<h2>대표 연산자</h2>\n",
    "\n",
    "+,-,*(곱셈),/(나눗셈)<br/>\n",
    "\n",
    "a**b = a의 y 제곱을 의미합니다<br/>\n",
    "a%b = 나눗셈의 나머지를 반환을 의미합니다<br/>\n",
    "a//b = 나눗셈 후 소수점 아랫자리를 버리는 연산입니다.<br/>\n",
    "a+=b = a를 b만큼 더해주고 다시 a변수에 할당을 해주는 연산입니다, a = a + b, 모든 연산 응용 가능합니다.br/>\n"
   ]
  },
  {
   "cell_type": "markdown",
   "metadata": {},
   "source": [
    "<h1>문자열 자료형 </h1>\n",
    "\n",
    "<h2>문자열이란</h2>\n",
    "\n",
    "<span style=\"color:red\">문자열이란 문자,단어 등으로 구성된 문자들의 집합</span>을 의미합니다<br/>\n",
    "문자열 변수 선언 방법 : a = \"Hello World\"<br/>\n",
    "\n",
    "<h2>문자열 줄 바꾸기</h2>\n",
    "1. 줄 바꿈 이스케이프 코드인 '\\n' 삽입하기<br/>\n",
    "2. \"\"\", \"\"\"를 사용해서 바꾸기<br/>\n"
   ]
  },
  {
   "cell_type": "code",
   "execution_count": 1,
   "metadata": {},
   "outputs": [],
   "source": [
    "print('\"\"\" \"\"\"를 활용한 줄바꾸기 예시\\n')\n",
    "print(\"\"\"Im \n",
    "still\n",
    "hungry\n",
    "\"\"\")\n",
    "\n",
    "print(\"줄바꾸기를 하지 않은 예시\")\n"
   ]
  },
  {
   "cell_type": "markdown",
   "metadata": {},
   "source": [
    "<h2>문자열 연산</h2>\n",
    "\n",
    "문자열은 더하고 곱하기가 가능합니다( +, * 사용)"
   ]
  },
  {
   "cell_type": "code",
   "execution_count": 2,
   "metadata": {},
   "outputs": [
    {
     "name": "stdout",
     "output_type": "stream",
     "text": [
      "문자열 더하기 곱하기에 대한 예시입니다\n",
      "dance with me\n",
      "NO!NO!NO!NO!NO!\n",
      "\n",
      "원하는 행의 수를 입력하세요: 5\n",
      "원하는 열의 수를 입력하세요: 4\n",
      "행렬을 만들 문자열을 입력하세요: Hi\n",
      "while문으로 만든 행렬\n",
      "HiHiHiHi\n",
      "HiHiHiHi\n",
      "HiHiHiHi\n",
      "HiHiHiHi\n",
      "HiHiHiHi\n",
      "\n",
      "for문으로 만든 행렬\n",
      "HiHiHiHi\n",
      "HiHiHiHi\n",
      "HiHiHiHi\n",
      "HiHiHiHi\n",
      "HiHiHiHi\n"
     ]
    }
   ],
   "source": [
    "print(\"문자열 더하기 곱하기에 대한 예시입니다\")\n",
    "a = \"dance\"\n",
    "b = \" with me\"\n",
    "print(a+b) #문자열 더하기 예시\n",
    "\n",
    "d = \"NO!\" \n",
    "print(d*5) # 문자열 곱셈 예시\n",
    "\n",
    "print()\n",
    "# 문자열 행렬 만들어보기\n",
    "\n",
    "numberOfRows = int(input(\"원하는 행의 수를 입력하세요: \")) # 사용자가 원하는 행의 수를 입력하는 코드\n",
    "numberOfColumns = int(input(\"원하는 열의 수를 입력하세요: \")) # 사용자가 원하는 열의 수를 입력하는 코드\n",
    "wantStr = input(\"행렬을 만들 문자열을 입력하세요: \") # 사용자가 원하는 문자열을 입력해주는 코드\n",
    "\n",
    "t = 0\n",
    "print(\"while문으로 만든 행렬\")\n",
    "while(t < numberOfRows):\n",
    "    print(wantStr * numberOfColumns)\n",
    "    t+=1\n",
    "    \n",
    "print()\n",
    "print(\"for문으로 만든 행렬\")    \n",
    "for i in range(numberOfRows):\n",
    "    print(wantStr * numberOfColumns)\n",
    "    "
   ]
  },
  {
   "cell_type": "markdown",
   "metadata": {},
   "source": [
    "<h2><span style=\"color:red\">문자열 인덱싱과 슬라이싱</span></h2>\n",
    "\n",
    "인덱싱과 슬라이싱은 정말 중요한 개념입니다<br/>\n",
    "<br/>\n",
    "<h3>인덱싱 : <span style=\"color:red\">문자열의 각 문자마다 번호를 매기는 것을 의미</span>합니다. 인덱스는 0번부터 시작합니다<br/></h3>\n",
    "뒤에서 첫번째는 -1번부터 시작합니다. *띄어쓰기도 문자로 포함됩니다. <br/>\n",
    "<br/>\n",
    "ex) a = \"LOVE\" 0번째 문자는 'L'입니다, -1번째 문자는 'E'입니다.<br/>\n",
    "a[0]은 L, a[-1]은 E입니다\n"
   ]
  },
  {
   "cell_type": "code",
   "execution_count": 3,
   "metadata": {},
   "outputs": [
    {
     "name": "stdout",
     "output_type": "stream",
     "text": [
      "I\n",
      " \n",
      "L\n",
      "O\n",
      "V\n",
      "E\n",
      " \n",
      "Y\n",
      "O\n",
      "U\n"
     ]
    }
   ],
   "source": [
    "# 인덱싱 예시\n",
    "\n",
    "a = \"I LOVE YOU\"\n",
    "\n",
    "t = 0\n",
    "\n",
    "while(t < len(a)): # len은 문자열의 길이를 반환하는 함수입니다.\n",
    "    print(a[t])\n",
    "    t+=1"
   ]
  },
  {
   "cell_type": "markdown",
   "metadata": {},
   "source": [
    "<h3>슬라이싱 : <span style=\"color:red\"> 문자열을 말 그대로 원하는 범위만큼 추출</span>하는 것을 의미합니다</h3>\n",
    "\n",
    "a = \"dance with me\"<br/>\n",
    "a[0:5] 는 dance입니다, 즉 <span style=\"color:red\">0번째 인덱스이상 5번째 인덱스 미만</span>까지의 범위를 나타냅니다<br/>\n",
    "수식으로는 0<=a<5 입니다<br/>\n",
    "<br/>\n",
    "\n",
    "a[:]는 처음부터 끝까지 출력을 의미합니다.<br/>\n",
    "a[:5]는 처음부터 5번째 인덱스 미만까지 출력을 의미합니다<br/>\n"
   ]
  },
  {
   "cell_type": "code",
   "execution_count": 4,
   "metadata": {},
   "outputs": [
    {
     "name": "stdout",
     "output_type": "stream",
     "text": [
      "dance with me\n",
      "dance\n",
      "dance\n",
      "me\n",
      "['dance', 'with', 'me']\n",
      "['danc', ' with m', '']\n",
      "['dance with ', 'e']\n"
     ]
    }
   ],
   "source": [
    "#문자열 슬라이싱 예제\n",
    "\n",
    "a = \"dance with me\"\n",
    "\n",
    "print(a[:]) # 전체 출력\n",
    "print(a[0:5]) # 0번째부터 4번째 인덱스까지 출력\n",
    "print(a[:5]) # 처음부터 4번째 인덱스까지 출력\n",
    "print(a[-2:]) # -2번째 인덱스부터 끝까지 출력\n",
    "\n",
    "print(a.split(\" \")) # 띄어쓰기 기준으로 문자열을 나누기, 띄어쓰기 삭제\n",
    "print(a.split(\"e\")) # e를 기준으로 문자열 나누기, e삭제\n",
    "print(a.split(\"m\")) # m 기준으로 문자열 나누기, m삭제"
   ]
  },
  {
   "cell_type": "markdown",
   "metadata": {},
   "source": [
    "<h2>문자열 포매팅</h2>\n",
    "\n",
    "문자열을 포매팅이란 <span style=\"color:red\">문자열 내의 특정한 값을 바꿔야 하는 경우, 이것을 가능하게 해주는 기능</span>을 의미합니다. <br/>\n",
    "<br>\n",
    "\n",
    "<h3>포매팅 방법</h3>\n",
    "\n",
    "1. 문자열 포맷코드(ex) %d, %s등등)을 통해 포맷하기\n",
    "2. format함수를 사용하여 포맷하기\n",
    "3. f을 활용하여 포맷하기\n",
    "\n",
    "취향 차이지만 개인적으로 3번 방법을 추천합니다. 코드 길이도 짧고, 코드가 한눈에 이해하기 쉽기 때문입니다.<br/>\n",
    "하지만 포맷코드 즉 1번 방법으로 정렬 및 소수점을 활용할 수 있기 때문에 활용도는 1번이 다양합니다<br/>\n",
    "\n"
   ]
  },
  {
   "cell_type": "code",
   "execution_count": 18,
   "metadata": {},
   "outputs": [
    {
     "name": "stdout",
     "output_type": "stream",
     "text": [
      "1번 방법 %d, %s로 포맷하기I eat 3 apples\n",
      "2번 방법 format 함수를 이용하기I eat 3 apples\n",
      "2번 방법 응용 인덱싱 활용하기I eat apples 3\n",
      "3번 방법 f를 활용하기I eat 3 apples\n"
     ]
    }
   ],
   "source": [
    "#문자열 포매팅 예시\n",
    "\n",
    "num = 3\n",
    "fruit = \"apples\"\n",
    "\n",
    "# 1번 방법 %d, %s로 포맷하기\n",
    "eatApples = \"I eat %d %s\" %(num ,fruit)\n",
    "print(\"1번 방법 %d, %s로 포맷하기\" + eatApples)\n",
    "\n",
    "# 2번 방법 format 함수를 이용하기\n",
    "eatApples2 = \"I eat {} {}\".format(num,fruit)\n",
    "print(\"2번 방법 format 함수를 이용하기\" + eatApples2)\n",
    "\n",
    "# 2번 방법 응용 인덱싱 활용하기\n",
    "eatApples3 = \"I eat {1} {0}\".format(num,fruit)\n",
    "print(\"2번 방법 응용 인덱싱 활용하기\" + eatApples3)\n",
    "\n",
    "\n",
    "# 3번 방법 f를 활용하기\n",
    "eatApples4 = f\"I eat {num} {fruit}\"\n",
    "print(\"3번 방법 f를 활용하기\" + eatApples4)\n"
   ]
  },
  {
   "cell_type": "code",
   "execution_count": 11,
   "metadata": {},
   "outputs": [
    {
     "name": "stdout",
     "output_type": "stream",
     "text": [
      "원하는 행의 갯수를 입력하세요: 5\n",
      "원하는 열의 갯수를 입력하세요: 4\n",
      "원하는 문자열을 입력하세요: I LOVE 3000\n",
      "\n",
      "for문으로 문자열 행렬 만들기\n",
      "\n",
      "I LOVE 3000    I LOVE 3000    I LOVE 3000    I LOVE 3000    \n",
      "I LOVE 3000    I LOVE 3000    I LOVE 3000    I LOVE 3000    \n",
      "I LOVE 3000    I LOVE 3000    I LOVE 3000    I LOVE 3000    \n",
      "I LOVE 3000    I LOVE 3000    I LOVE 3000    I LOVE 3000    \n",
      "I LOVE 3000    I LOVE 3000    I LOVE 3000    I LOVE 3000    \n",
      "\n",
      "while문으로 문자열 행렬 만들기\n",
      "\n",
      "I LOVE 3000         I LOVE 3000         I LOVE 3000         I LOVE 3000         \n",
      "I LOVE 3000         I LOVE 3000         I LOVE 3000         I LOVE 3000         \n",
      "I LOVE 3000         I LOVE 3000         I LOVE 3000         I LOVE 3000         \n",
      "I LOVE 3000         I LOVE 3000         I LOVE 3000         I LOVE 3000         \n",
      "I LOVE 3000         I LOVE 3000         I LOVE 3000         I LOVE 3000         \n",
      "\n"
     ]
    }
   ],
   "source": [
    "# 포맷코드로 문자열 정렬 및 소수점 출력하기\n",
    "# 문자열 행렬 만들기\n",
    "\n",
    "\n",
    "inputRowNum = int(input(\"원하는 행의 갯수를 입력하세요: \"))\n",
    "inputColNum = int(input(\"원하는 열의 갯수를 입력하세요: \"))\n",
    "sentence = input(\"원하는 문자열을 입력하세요: \")\n",
    "\n",
    "print() \n",
    "\n",
    "#for문으로 문자열 행렬 만들기\n",
    "print(\"for문으로 문자열 행렬 만들기\\n\")\n",
    "for i in range(inputRowNum):\n",
    "    print(\"%-15s\" %(sentence) *inputColNum)\n",
    "\n",
    "print()\n",
    "    \n",
    "#while 문으로 문자열 행렬 만들기\n",
    "print(\"while문으로 문자열 행렬 만들기\\n\")\n",
    "cnt = 0\n",
    "while(cnt<inputRowNum):\n",
    "    print(\"%-20s\" %(sentence) *inputColNum)\n",
    "    cnt+=1\n",
    "\n",
    "print()\n",
    "    "
   ]
  },
  {
   "cell_type": "code",
   "execution_count": 14,
   "metadata": {},
   "outputs": [
    {
     "name": "stdout",
     "output_type": "stream",
     "text": [
      "0.20058372763394072\n",
      "0.2006\n"
     ]
    }
   ],
   "source": [
    "#소수점 연습\n",
    "\n",
    "import random\n",
    "\n",
    "a = random.random() # 0부터 1 사이의 임의의 float\n",
    "print(a)\n",
    "\n",
    "print(\"%0.4f\" %a) # 소수점 4번째 짜리 까지 출력"
   ]
  },
  {
   "cell_type": "code",
   "execution_count": null,
   "metadata": {},
   "outputs": [],
   "source": []
  }
 ],
 "metadata": {
  "kernelspec": {
   "display_name": "Python 3",
   "language": "python",
   "name": "python3"
  },
  "language_info": {
   "codemirror_mode": {
    "name": "ipython",
    "version": 3
   },
   "file_extension": ".py",
   "mimetype": "text/x-python",
   "name": "python",
   "nbconvert_exporter": "python",
   "pygments_lexer": "ipython3",
   "version": "3.6.8"
  }
 },
 "nbformat": 4,
 "nbformat_minor": 2
}
